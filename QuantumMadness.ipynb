{
 "cells": [
  {
   "cell_type": "code",
   "execution_count": 14,
   "metadata": {},
   "outputs": [],
   "source": [
    "import numpy as np\n",
    "import scipy.special as sp\n",
    "\n",
    "from IPython.display import display, clear_output\n",
    "import matplotlib.pyplot as plt\n",
    "import copy \n",
    "import time\n",
    "import random\n",
    "\n",
    "import torch\n",
    "import torch.nn as nn\n",
    "import torch.optim as optim\n",
    "import collections\n",
    "\n",
    "# Necessary imports\n",
    "\n",
    "import numpy as np\n",
    "import matplotlib.pyplot as plt\n",
    "from torch.nn import Linear\n",
    " \n",
    "from qiskit import QuantumCircuit\n",
    "#from qiskit.utils import algorithm_globals\n",
    "from qiskit.circuit import Parameter\n",
    "from qiskit.circuit.library import RealAmplitudes, ZFeatureMap\n",
    "from qiskit_machine_learning.neural_networks import SamplerQNN\n",
    "from qiskit_machine_learning.connectors import TorchConnector\n",
    "import pylatexenc\n",
    "\n",
    "from qiskit.circuit.library import ZZFeatureMap, EfficientSU2\n",
    "\n",
    "import pandas as pd\n",
    "\n",
    "torch.backends.cudnn.benchmark = True\n"
   ]
  },
  {
   "cell_type": "code",
   "execution_count": 15,
   "metadata": {},
   "outputs": [
    {
     "name": "stdout",
     "output_type": "stream",
     "text": [
      "cpu\n"
     ]
    }
   ],
   "source": [
    "device = torch.device(\"cuda\" if torch.cuda.is_available() else \"cpu\")\n",
    "print(device)\n",
    "\n",
    "directory = 'Experiments/'\n",
    "experiment_id = 'Initial/'\n",
    "\n",
    "num_qubits = 3\n",
    "num_layers = 1\n"
   ]
  },
  {
   "cell_type": "code",
   "execution_count": 16,
   "metadata": {},
   "outputs": [
    {
     "name": "stdout",
     "output_type": "stream",
     "text": [
      "QNN Training Parameters: 6\n",
      "QNN Input Parameters: 3\n",
      "QNN Circuit Depth: 2\n"
     ]
    },
    {
     "name": "stderr",
     "output_type": "stream",
     "text": [
      "/var/folders/ks/75nc1bbj5y927lr6v6qstz540000gn/T/ipykernel_53481/92211675.py:10: DeprecationWarning: V1 Primitives are deprecated as of qiskit-machine-learning 0.8.0 and will be removed no sooner than 4 months after the release date. Use V2 primitives for continued compatibility and support.\n",
      "  qnn = SamplerQNN(\n"
     ]
    },
    {
     "data": {
      "image/png": "[encoded data removed]",
      "text/plain": [
       "<Figure size 621.941x284.278 with 1 Axes>"
      ]
     },
     "execution_count": 16,
     "metadata": {},
     "output_type": "execute_result"
    }
   ],
   "source": [
    "def create_qnn():\n",
    "    qc = QuantumCircuit(num_qubits)\n",
    "    feature_map = ZFeatureMap(num_qubits)\n",
    "    ansatz = RealAmplitudes(num_qubits=num_qubits, reps=num_layers)\n",
    "\n",
    "    qc.compose(feature_map, inplace=True)\n",
    "    qc.compose(ansatz, inplace=True)\n",
    "\n",
    "    # REMEMBER TO SET input_gradients=True FOR ENABLING HYBRID GRADIENT BACKPROP\n",
    "    qnn = SamplerQNN(\n",
    "        circuit=qc,\n",
    "        input_params=feature_map.parameters,\n",
    "        weight_params=ansatz.parameters,\n",
    "        input_gradients=True,\n",
    "    )\n",
    "    \n",
    "    return qnn\n",
    "\n",
    "qnn = create_qnn()\n",
    "\n",
    "print(\"QNN Training Parameters:\", qnn.num_weights) \n",
    "print(\"QNN Input Parameters:\", qnn.num_inputs)\n",
    "print(\"QNN Circuit Depth:\", qnn.circuit.depth())\n",
    "\n",
    "qnn.circuit.draw('mpl')"
   ]
  },
  {
   "cell_type": "code",
   "execution_count": 17,
   "metadata": {},
   "outputs": [],
   "source": [
    "class Model(nn.Module):\n",
    "    def __init__(self):\n",
    "        super().__init__()\n",
    "        \n",
    "        self.qnn = nn.Sequential(nn.LazyLinear(qnn.num_inputs),\n",
    "            nn.LazyLinear(qnn.num_inputs),\n",
    "            nn.Tanh(),\n",
    "            TorchConnector(qnn),\n",
    "            nn.LazyLinear(1),\n",
    "            nn.Sigmoid(),\n",
    "        )\n",
    "\n",
    "    def forward(self, x):\n",
    "        x = self.qnn(x)\n",
    "        return x"
   ]
  },
  {
   "cell_type": "code",
   "execution_count": 18,
   "metadata": {},
   "outputs": [
    {
     "data": {
      "text/plain": [
       "Model(\n",
       "  (qnn): Sequential(\n",
       "    (0): LazyLinear(in_features=0, out_features=3, bias=True)\n",
       "    (1): LazyLinear(in_features=0, out_features=3, bias=True)\n",
       "    (2): Tanh()\n",
       "    (3): TorchConnector()\n",
       "    (4): LazyLinear(in_features=0, out_features=1, bias=True)\n",
       "    (5): Sigmoid()\n",
       "  )\n",
       ")"
      ]
     },
     "execution_count": 18,
     "metadata": {},
     "output_type": "execute_result"
    }
   ],
   "source": [
    "net = Model().to(device)\n",
    "optimizer = optim.Adam(net.parameters(), lr=0.001)\n",
    "criterion = nn.BCELoss()\n",
    "batch_size = 32\n",
    "num_epochs = 1000\n",
    "\n",
    "net.to(device)\n",
    "net.train()"
   ]
  },
  {
   "cell_type": "code",
   "execution_count": 19,
   "metadata": {},
   "outputs": [],
   "source": [
    "# Load data\n",
    "\n",
    "import pandas as pd\n",
    "\n",
    "df = pd.read_csv(\"Games.csv\")\n",
    "\n",
    "df.fillna(-1, inplace=True)\n",
    "\n",
    "unique_years = df[\"YEAR\"].unique()\n",
    "test_years = random.sample(list(unique_years), k=2)\n",
    "\n",
    "test_df = df[df[\"YEAR\"].isin(test_years)]\n",
    "train_val_df = df[~df[\"YEAR\"].isin(test_years)]\n",
    "\n",
    "from sklearn.model_selection import train_test_split\n",
    "train_df, val_df = train_test_split(train_val_df, test_size=0.2, random_state=42)\n",
    "\n",
    "features = [\"SEED1\", \"SEED2\", \"DUNKS FG%1\", \"DUNKS FG%2\", \"CURRENT ROUND\"]\n",
    "target = \"WINNER\"\n"
   ]
  },
  {
   "cell_type": "code",
   "execution_count": 20,
   "metadata": {},
   "outputs": [],
   "source": [
    "from torch.utils.data import TensorDataset, DataLoader\n",
    "\n",
    "def to_tensor(df):\n",
    "    X = torch.tensor(df[features].values, dtype=torch.float32)\n",
    "    y = torch.tensor(df[target].values, dtype=torch.float32).unsqueeze(1)\n",
    "    return TensorDataset(X, y)"
   ]
  },
  {
   "cell_type": "code",
   "execution_count": 21,
   "metadata": {},
   "outputs": [],
   "source": [
    "train_dataset = to_tensor(train_df)\n",
    "val_dataset = to_tensor(val_df)\n",
    "test_dataset = to_tensor(test_df)\n"
   ]
  },
  {
   "cell_type": "code",
   "execution_count": 22,
   "metadata": {},
   "outputs": [],
   "source": [
    "from torch.utils.data import TensorDataset, DataLoader\n",
    "\n",
    "train_loader = DataLoader(train_dataset, batch_size=32, shuffle=True)\n",
    "val_loader = DataLoader(val_dataset, batch_size=32)\n"
   ]
  },
  {
   "cell_type": "code",
   "execution_count": 23,
   "metadata": {},
   "outputs": [],
   "source": [
    "def plot_loss(train, val):\n",
    "    plt.plot(train, label='Train')\n",
    "    plt.plot(val, label='Validation')\n",
    "    plt.legend()\n",
    "    plt.xlim(0, num_epochs)\n",
    "    plt.grid()\n",
    "    plt.xlabel('Epoch')\n",
    "    plt.ylabel('Loss')\n",
    "    plt.title('Training and Validation Loss')\n",
    "    plt.savefig(directory + experiment_id+  'loss.png')\n",
    "    plt.show()\n",
    "    \n",
    "def plot_accuracy(train, val):\n",
    "    plt.plot(train, label='Train')\n",
    "    plt.plot(val, label='Validation')\n",
    "    plt.xlim(0, num_epochs)\n",
    "    plt.grid()\n",
    "    plt.xlabel('Epoch')\n",
    "    plt.ylabel('Accuracy')\n",
    "    plt.title('Training and Validation Accuracy')\n",
    "    plt.legend()\n",
    "    plt.savefig(directory + experiment_id+ 'accuracy.png')\n",
    "    plt.show()\n",
    " "
   ]
  },
  {
   "cell_type": "code",
   "execution_count": 24,
   "metadata": {},
   "outputs": [],
   "source": [
    "def calc_val_accuracy(loader):\n",
    "    correct = 0\n",
    "    total = 0\n",
    "    with torch.no_grad():\n",
    "        for data in loader:\n",
    "            inputs, labels = data\n",
    "            inputs, labels = inputs.to(device), labels.to(device)\n",
    "\n",
    "            outputs = net(inputs)\n",
    "            predicted = (outputs > 0.5).float()\n",
    "\n",
    "            total += labels.size(0)\n",
    "\n",
    "            correct += (predicted == labels).sum().item()\n",
    "\n",
    "    return correct / total\n",
    "\n",
    "def calc_val_loss(loader):\n",
    "    val_loss = 0\n",
    "    with torch.no_grad():\n",
    "        for data in loader:\n",
    "            inputs, labels = data\n",
    "            inputs, labels = inputs.to(device), labels.to(device)\n",
    "\n",
    "            outputs = net(inputs)\n",
    "            loss = criterion(outputs, labels)\n",
    "            val_loss += loss.item()\n",
    "\n",
    "    return val_loss / len(loader)\n",
    "\n"
   ]
  },
  {
   "cell_type": "code",
   "execution_count": null,
   "metadata": {},
   "outputs": [
    {
     "name": "stdout",
     "output_type": "stream",
     "text": [
      "Epoch [75/1000]\n",
      "\n",
      "TrainnLoss: 0.6650\n",
      "Validation Loss: 0.6550\n",
      "\n",
      "Train Accuracy: 0.6094\n",
      "Validation Accuracy: 0.6328 \n",
      "\n",
      "Model saved at epoch 75 with loss 14.6298\n"
     ]
    }
   ],
   "source": [
    "# Initialize lists to store losses and accuracies\n",
    "losses = []\n",
    "val_losses = []\n",
    "\n",
    "best_loss = float('inf')\n",
    "best_accuracy = 0.0\n",
    "\n",
    "loss_epoch = 0\n",
    "accuracy_epoch = 0\n",
    "\n",
    "train_accuracys = []\n",
    "val_accuracys = []\n",
    "\n",
    "# Training loop\n",
    "for epoch in range(num_epochs):\n",
    "    \n",
    "    epoch_loss = 0.0\n",
    "    epoch_accuracy = 0.0\n",
    "\n",
    "    for X_batch, y_batch in train_loader:\n",
    "    \n",
    "        # Move data to device\n",
    "        X_batch = X_batch.to(device)\n",
    "        y_batch = y_batch.to(device)\n",
    "\n",
    "        # Forward pass\n",
    "        preds = net(X_batch)\n",
    "\n",
    "        if preds.shape != y_batch.shape:\n",
    "            y_batch = y_batch.view(preds.shape)\n",
    "      \n",
    "        # Calculate loss\n",
    "        loss = criterion(preds, y_batch)\n",
    "\n",
    "        # Backward pass and optimization\n",
    "        optimizer.zero_grad()\n",
    "        loss.backward()\n",
    "        optimizer.step()\n",
    "\n",
    "        # Calculate accuracy\n",
    "        predicted = (preds > 0.5).float()\n",
    "        correct = (predicted == y_batch).sum().item()\n",
    "        total = y_batch.size(0)\n",
    "        accuracy = correct / total\n",
    "        \n",
    "        epoch_accuracy += accuracy\n",
    "        epoch_loss += loss.item()\n",
    "  \n",
    "    val_loss = calc_val_loss(val_loader)\n",
    "    val_accuracy = calc_val_accuracy(val_loader)\n",
    "\n",
    "    losses.append(epoch_loss / len(train_loader))\n",
    "    train_accuracys.append(epoch_accuracy / len(train_loader))\n",
    "\n",
    "    val_accuracys.append(val_accuracy)\n",
    "    val_losses.append(val_loss)\n",
    "        \n",
    "    clear_output(wait=True)\n",
    "    print(f\"Epoch [{epoch}/{num_epochs}]\\n\")\n",
    "    print(f\"TrainnLoss: {epoch_loss / len(train_loader):.4f}\")\n",
    "    print(f\"Validation Loss: {val_loss:.4f}\\n\")\n",
    "    print(f\"Train Accuracy: {epoch_accuracy / len(train_loader):.4f}\")\n",
    "    print(f\"Validation Accuracy: {val_accuracy:.4f} \\n\")\n",
    "\n",
    "    \n",
    "\n",
    "    if val_loss < best_loss and epoch > 50:\n",
    "        best_loss = epoch_loss\n",
    "        loss_epoch = epoch\n",
    "        torch.save(net.state_dict(), directory + experiment_id + 'best_lost_model.pth')\n",
    "        \n",
    "    if val_accuracy > best_accuracy and epoch > 50:\n",
    "        best_accuracy = val_accuracy\n",
    "        accuracy_epoch = epoch\n",
    "        torch.save(net.state_dict(), directory + experiment_id + 'best_accuracy_model.pth')\n",
    "    \n",
    "    if epoch % 50 == 0:\n",
    "        plot_loss(losses, val_losses)\n",
    "        plot_accuracy(train_accuracys, val_accuracys)\n",
    "        print(f\"Model saved at epoch {epoch} with loss {best_loss:.4f}\")\n",
    "        print(f\"Model saved at epoch {epoch} with accuracy {best_accuracy:.4f}\")\n",
    "\n",
    "\n",
    "torch.save(net.state_dict(), directory + experiment_id + 'final_model.pth')\n",
    "        "
   ]
  },
  {
   "cell_type": "code",
   "execution_count": null,
   "metadata": {},
   "outputs": [],
   "source": [
    "# Load the best model\n",
    "best_model = Model().to(device)\n",
    "best_model.load_state_dict(torch.load(directory + experiment_id + 'best_accuracy_model.pth'))\n",
    "best_model.eval()\n",
    "\n",
    "for year in test_years:\n",
    "    print(year)\n",
    "    test_year_df = test_df[test_df[\"YEAR\"] == year]\n",
    "    test_year_df = test_year_df[features]\n",
    "    \n",
    "    test_dataset = to_tensor(test_year_df)\n",
    "    test_loader = DataLoader(test_dataset, batch_size=32, shuffle=False)\n",
    "\n",
    "   "
   ]
  },
  {
   "cell_type": "code",
   "execution_count": null,
   "metadata": {},
   "outputs": [],
   "source": []
  }
 ],
 "metadata": {
  "language_info": {
   "name": "python"
  }
 },
 "nbformat": 4,
 "nbformat_minor": 2
}
